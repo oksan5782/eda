{
 "cells": [
  {
   "cell_type": "markdown",
   "id": "af4caf86",
   "metadata": {},
   "source": [
    "[Data Source](https://www.kaggle.com/datasets/marianadeem755/bestsellers-unveiled-global-top-selling-books/data)"
   ]
  },
  {
   "cell_type": "code",
   "execution_count": 1,
   "id": "87071723",
   "metadata": {},
   "outputs": [],
   "source": [
    "import pandas as pd\n",
    "import numpy as np "
   ]
  },
  {
   "cell_type": "code",
   "execution_count": 2,
   "id": "fa9b33d7",
   "metadata": {},
   "outputs": [
    {
     "data": {
      "text/html": [
       "<div>\n",
       "<style scoped>\n",
       "    .dataframe tbody tr th:only-of-type {\n",
       "        vertical-align: middle;\n",
       "    }\n",
       "\n",
       "    .dataframe tbody tr th {\n",
       "        vertical-align: top;\n",
       "    }\n",
       "\n",
       "    .dataframe thead th {\n",
       "        text-align: right;\n",
       "    }\n",
       "</style>\n",
       "<table border=\"1\" class=\"dataframe\">\n",
       "  <thead>\n",
       "    <tr style=\"text-align: right;\">\n",
       "      <th></th>\n",
       "      <th>Rank</th>\n",
       "      <th>Title</th>\n",
       "      <th>Author</th>\n",
       "      <th>Volume Sales</th>\n",
       "      <th>Publisher</th>\n",
       "      <th>Genre</th>\n",
       "    </tr>\n",
       "  </thead>\n",
       "  <tbody>\n",
       "    <tr>\n",
       "      <th>0</th>\n",
       "      <td>1</td>\n",
       "      <td>Da Vinci Code,The</td>\n",
       "      <td>Brown, Dan</td>\n",
       "      <td>5,094,805</td>\n",
       "      <td>Transworld</td>\n",
       "      <td>Crime, Thriller &amp; Adventure</td>\n",
       "    </tr>\n",
       "    <tr>\n",
       "      <th>1</th>\n",
       "      <td>2</td>\n",
       "      <td>Harry Potter and the Deathly Hallows</td>\n",
       "      <td>Rowling, J.K.</td>\n",
       "      <td>4,475,152</td>\n",
       "      <td>Bloomsbury</td>\n",
       "      <td>Children's Fiction</td>\n",
       "    </tr>\n",
       "    <tr>\n",
       "      <th>2</th>\n",
       "      <td>3</td>\n",
       "      <td>Harry Potter and the Philosopher's Stone</td>\n",
       "      <td>Rowling, J.K.</td>\n",
       "      <td>4,200,654</td>\n",
       "      <td>Bloomsbury</td>\n",
       "      <td>Children's Fiction</td>\n",
       "    </tr>\n",
       "    <tr>\n",
       "      <th>3</th>\n",
       "      <td>4</td>\n",
       "      <td>Harry Potter and the Order of the Phoenix</td>\n",
       "      <td>Rowling, J.K.</td>\n",
       "      <td>4,179,479</td>\n",
       "      <td>Bloomsbury</td>\n",
       "      <td>Children's Fiction</td>\n",
       "    </tr>\n",
       "    <tr>\n",
       "      <th>4</th>\n",
       "      <td>5</td>\n",
       "      <td>Fifty Shades of Grey</td>\n",
       "      <td>James, E. L.</td>\n",
       "      <td>3,758,936</td>\n",
       "      <td>Random House</td>\n",
       "      <td>Romance &amp; Sagas</td>\n",
       "    </tr>\n",
       "  </tbody>\n",
       "</table>\n",
       "</div>"
      ],
      "text/plain": [
       "   Rank                                      Title         Author  \\\n",
       "0     1                          Da Vinci Code,The     Brown, Dan   \n",
       "1     2       Harry Potter and the Deathly Hallows  Rowling, J.K.   \n",
       "2     3   Harry Potter and the Philosopher's Stone  Rowling, J.K.   \n",
       "3     4  Harry Potter and the Order of the Phoenix  Rowling, J.K.   \n",
       "4     5                       Fifty Shades of Grey   James, E. L.   \n",
       "\n",
       "  Volume Sales     Publisher                        Genre  \n",
       "0    5,094,805    Transworld  Crime, Thriller & Adventure  \n",
       "1    4,475,152    Bloomsbury           Children's Fiction  \n",
       "2    4,200,654    Bloomsbury           Children's Fiction  \n",
       "3    4,179,479    Bloomsbury           Children's Fiction  \n",
       "4    3,758,936  Random House              Romance & Sagas  "
      ]
     },
     "execution_count": 2,
     "metadata": {},
     "output_type": "execute_result"
    }
   ],
   "source": [
    "data = pd.read_csv('/Books Viz/best_selling_books_2.csv')\n",
    "data.head()"
   ]
  },
  {
   "cell_type": "code",
   "execution_count": 3,
   "id": "f8e4f8e1",
   "metadata": {
    "scrolled": true
   },
   "outputs": [
    {
     "data": {
      "text/plain": [
       "(100, 6)"
      ]
     },
     "execution_count": 3,
     "metadata": {},
     "output_type": "execute_result"
    }
   ],
   "source": [
    "data.shape"
   ]
  },
  {
   "cell_type": "code",
   "execution_count": 5,
   "id": "cfce5811",
   "metadata": {},
   "outputs": [
    {
     "data": {
      "text/plain": [
       "Index(['Rank', 'Title', 'Author', 'Volume Sales', 'Publisher', 'Genre'], dtype='object')"
      ]
     },
     "execution_count": 5,
     "metadata": {},
     "output_type": "execute_result"
    }
   ],
   "source": [
    "data.columns"
   ]
  },
  {
   "cell_type": "code",
   "execution_count": 5,
   "id": "0474f2bf",
   "metadata": {},
   "outputs": [
    {
     "data": {
      "text/html": [
       "<div>\n",
       "<style scoped>\n",
       "    .dataframe tbody tr th:only-of-type {\n",
       "        vertical-align: middle;\n",
       "    }\n",
       "\n",
       "    .dataframe tbody tr th {\n",
       "        vertical-align: top;\n",
       "    }\n",
       "\n",
       "    .dataframe thead th {\n",
       "        text-align: right;\n",
       "    }\n",
       "</style>\n",
       "<table border=\"1\" class=\"dataframe\">\n",
       "  <thead>\n",
       "    <tr style=\"text-align: right;\">\n",
       "      <th></th>\n",
       "      <th>Rank</th>\n",
       "      <th>Title</th>\n",
       "      <th>Author</th>\n",
       "      <th>Volume Sales</th>\n",
       "      <th>Publisher</th>\n",
       "      <th>Genre</th>\n",
       "    </tr>\n",
       "  </thead>\n",
       "  <tbody>\n",
       "    <tr>\n",
       "      <th>count</th>\n",
       "      <td>100.000000</td>\n",
       "      <td>100</td>\n",
       "      <td>100</td>\n",
       "      <td>100</td>\n",
       "      <td>100</td>\n",
       "      <td>100</td>\n",
       "    </tr>\n",
       "    <tr>\n",
       "      <th>unique</th>\n",
       "      <td>NaN</td>\n",
       "      <td>100</td>\n",
       "      <td>67</td>\n",
       "      <td>100</td>\n",
       "      <td>16</td>\n",
       "      <td>21</td>\n",
       "    </tr>\n",
       "    <tr>\n",
       "      <th>top</th>\n",
       "      <td>NaN</td>\n",
       "      <td>Da Vinci Code,The</td>\n",
       "      <td>Rowling, J.K.</td>\n",
       "      <td>5,094,805</td>\n",
       "      <td>Random House</td>\n",
       "      <td>General &amp; Literary Fiction</td>\n",
       "    </tr>\n",
       "    <tr>\n",
       "      <th>freq</th>\n",
       "      <td>NaN</td>\n",
       "      <td>1</td>\n",
       "      <td>9</td>\n",
       "      <td>1</td>\n",
       "      <td>19</td>\n",
       "      <td>33</td>\n",
       "    </tr>\n",
       "    <tr>\n",
       "      <th>mean</th>\n",
       "      <td>50.500000</td>\n",
       "      <td>NaN</td>\n",
       "      <td>NaN</td>\n",
       "      <td>NaN</td>\n",
       "      <td>NaN</td>\n",
       "      <td>NaN</td>\n",
       "    </tr>\n",
       "    <tr>\n",
       "      <th>std</th>\n",
       "      <td>29.011492</td>\n",
       "      <td>NaN</td>\n",
       "      <td>NaN</td>\n",
       "      <td>NaN</td>\n",
       "      <td>NaN</td>\n",
       "      <td>NaN</td>\n",
       "    </tr>\n",
       "    <tr>\n",
       "      <th>min</th>\n",
       "      <td>1.000000</td>\n",
       "      <td>NaN</td>\n",
       "      <td>NaN</td>\n",
       "      <td>NaN</td>\n",
       "      <td>NaN</td>\n",
       "      <td>NaN</td>\n",
       "    </tr>\n",
       "    <tr>\n",
       "      <th>25%</th>\n",
       "      <td>25.750000</td>\n",
       "      <td>NaN</td>\n",
       "      <td>NaN</td>\n",
       "      <td>NaN</td>\n",
       "      <td>NaN</td>\n",
       "      <td>NaN</td>\n",
       "    </tr>\n",
       "    <tr>\n",
       "      <th>50%</th>\n",
       "      <td>50.500000</td>\n",
       "      <td>NaN</td>\n",
       "      <td>NaN</td>\n",
       "      <td>NaN</td>\n",
       "      <td>NaN</td>\n",
       "      <td>NaN</td>\n",
       "    </tr>\n",
       "    <tr>\n",
       "      <th>75%</th>\n",
       "      <td>75.250000</td>\n",
       "      <td>NaN</td>\n",
       "      <td>NaN</td>\n",
       "      <td>NaN</td>\n",
       "      <td>NaN</td>\n",
       "      <td>NaN</td>\n",
       "    </tr>\n",
       "    <tr>\n",
       "      <th>max</th>\n",
       "      <td>100.000000</td>\n",
       "      <td>NaN</td>\n",
       "      <td>NaN</td>\n",
       "      <td>NaN</td>\n",
       "      <td>NaN</td>\n",
       "      <td>NaN</td>\n",
       "    </tr>\n",
       "  </tbody>\n",
       "</table>\n",
       "</div>"
      ],
      "text/plain": [
       "              Rank              Title         Author Volume Sales  \\\n",
       "count   100.000000                100            100          100   \n",
       "unique         NaN                100             67          100   \n",
       "top            NaN  Da Vinci Code,The  Rowling, J.K.    5,094,805   \n",
       "freq           NaN                  1              9            1   \n",
       "mean     50.500000                NaN            NaN          NaN   \n",
       "std      29.011492                NaN            NaN          NaN   \n",
       "min       1.000000                NaN            NaN          NaN   \n",
       "25%      25.750000                NaN            NaN          NaN   \n",
       "50%      50.500000                NaN            NaN          NaN   \n",
       "75%      75.250000                NaN            NaN          NaN   \n",
       "max     100.000000                NaN            NaN          NaN   \n",
       "\n",
       "           Publisher                       Genre  \n",
       "count            100                         100  \n",
       "unique            16                          21  \n",
       "top     Random House  General & Literary Fiction  \n",
       "freq              19                          33  \n",
       "mean             NaN                         NaN  \n",
       "std              NaN                         NaN  \n",
       "min              NaN                         NaN  \n",
       "25%              NaN                         NaN  \n",
       "50%              NaN                         NaN  \n",
       "75%              NaN                         NaN  \n",
       "max              NaN                         NaN  "
      ]
     },
     "execution_count": 5,
     "metadata": {},
     "output_type": "execute_result"
    }
   ],
   "source": [
    "data.describe(include='all')"
   ]
  },
  {
   "cell_type": "code",
   "execution_count": 8,
   "id": "f570b336",
   "metadata": {},
   "outputs": [
    {
     "data": {
      "text/plain": [
       "Rank             int64\n",
       "Title           object\n",
       "Author          object\n",
       "Volume Sales    object\n",
       "Publisher       object\n",
       "Genre           object\n",
       "dtype: object"
      ]
     },
     "execution_count": 8,
     "metadata": {},
     "output_type": "execute_result"
    }
   ],
   "source": [
    "# Check the data types of each column\n",
    "data.dtypes"
   ]
  },
  {
   "cell_type": "code",
   "execution_count": 13,
   "id": "73143b39",
   "metadata": {},
   "outputs": [],
   "source": [
    "# Change data type for volume of sales\n",
    "data['Volume Sales'] = pd.to_numeric(data['Volume Sales'].str.replace(',', ''), errors='coerce')"
   ]
  },
  {
   "cell_type": "code",
   "execution_count": 17,
   "id": "fa127ae4",
   "metadata": {},
   "outputs": [
    {
     "data": {
      "text/plain": [
       "count          100\n",
       "mean     1,497,272\n",
       "std        907,740\n",
       "min        791,095\n",
       "25%        942,058\n",
       "50%      1,111,938\n",
       "75%      1,781,836\n",
       "max      5,094,805\n",
       "Name: Volume Sales, dtype: object"
      ]
     },
     "execution_count": 17,
     "metadata": {},
     "output_type": "execute_result"
    }
   ],
   "source": [
    "# Check if the data type is numeric formated in non-scientific notation\n",
    "data['Volume Sales'].describe().apply(lambda x: f'{x:,.0f}')"
   ]
  },
  {
   "cell_type": "code",
   "execution_count": 18,
   "id": "0a39510e",
   "metadata": {},
   "outputs": [
    {
     "data": {
      "text/plain": [
       "Rank            0\n",
       "Title           0\n",
       "Author          0\n",
       "Volume Sales    0\n",
       "Publisher       0\n",
       "Genre           0\n",
       "dtype: int64"
      ]
     },
     "execution_count": 18,
     "metadata": {},
     "output_type": "execute_result"
    }
   ],
   "source": [
    "# Check for missing values\n",
    "data.isnull().sum()"
   ]
  },
  {
   "cell_type": "code",
   "execution_count": 20,
   "id": "285981d2",
   "metadata": {},
   "outputs": [
    {
     "name": "stdout",
     "output_type": "stream",
     "text": [
      "Number of unique authors: 67\n",
      "Number of unique publishers: 16\n",
      "Top 10 Authors:\n",
      " Author\n",
      "Rowling, J.K.       9\n",
      "Brown, Dan          5\n",
      "Oliver, Jamie       5\n",
      "Meyer, Stephenie    4\n",
      "Pullman, Philip     3\n",
      "James, E. L.        3\n",
      "Larsson, Stieg      3\n",
      "Bryson, Bill        3\n",
      "Donaldson, Julia    3\n",
      "Pelzer, Dave        2\n",
      "Name: count, dtype: int64\n",
      "Top 10 Publishers:\n",
      " Publisher\n",
      "Random House          19\n",
      "Transworld            14\n",
      "Penguin               14\n",
      "Bloomsbury            11\n",
      "Pan Macmillan          7\n",
      "HarperCollins          7\n",
      "Little, Brown Book     6\n",
      "Orion                  5\n",
      "Scholastic Ltd.        4\n",
      "Quercus                3\n",
      "Name: count, dtype: int64\n"
     ]
    }
   ],
   "source": [
    "# Descriptive stats\n",
    "\n",
    "# Author and Publisher Summary\n",
    "unique_authors = data['Author'].nunique()\n",
    "print(f'Number of unique authors: {unique_authors}')\n",
    "\n",
    "unique_publishers = data['Publisher'].nunique()\n",
    "print(f'Number of unique publishers: {unique_publishers}')\n",
    "\n",
    "top_authors = data['Author'].value_counts().head(10)\n",
    "print('Top 10 Authors:\\n', top_authors)\n",
    "\n",
    "top_publishers = data['Publisher'].value_counts().head(10)\n",
    "print('Top 10 Publishers:\\n', top_publishers)"
   ]
  },
  {
   "cell_type": "code",
   "execution_count": 22,
   "id": "e757972f",
   "metadata": {},
   "outputs": [
    {
     "data": {
      "text/plain": [
       "Genre\n",
       "General & Literary Fiction                   33\n",
       "Crime, Thriller & Adventure                  13\n",
       "Young Adult Fiction                           9\n",
       "Children's Fiction                            8\n",
       "Food & Drink: General                         6\n",
       "Picture Books                                 4\n",
       "Autobiography: The Arts                       4\n",
       "Romance & Sagas                               3\n",
       "Autobiography: General                        3\n",
       "Fitness & Diet                                3\n",
       "Popular Science                               2\n",
       "Science Fiction & Fantasy                     2\n",
       "Travel Writing                                2\n",
       "Current Affairs & Issues                      1\n",
       "Children's Annuals                            1\n",
       "National & Regional Cuisine                   1\n",
       "Biography: The Arts                           1\n",
       "Popular Culture & Media: General Interest     1\n",
       "Usage & Writing Guides                        1\n",
       "Humour: Collections & General                 1\n",
       "Biography: General                            1\n",
       "Name: count, dtype: int64"
      ]
     },
     "execution_count": 22,
     "metadata": {},
     "output_type": "execute_result"
    }
   ],
   "source": [
    "# Genre Distribution\n",
    "genre_distribution = data['Genre'].value_counts()\n",
    "genre_distribution"
   ]
  },
  {
   "cell_type": "code",
   "execution_count": 23,
   "id": "9ae7b59f",
   "metadata": {},
   "outputs": [],
   "source": [
    "import seaborn as sns\n",
    "import matplotlib.pyplot as plt"
   ]
  },
  {
   "cell_type": "code",
   "execution_count": 27,
   "id": "b703737a",
   "metadata": {},
   "outputs": [
    {
     "data": {
      "image/png": "[encoded data removed]",
      "text/plain": [
       "<Figure size 432x288 with 1 Axes>"
      ]
     },
     "metadata": {
      "needs_background": "light"
     },
     "output_type": "display_data"
    }
   ],
   "source": [
    "# Relationships between variables\n",
    "\n",
    "# Rank vs. Volume Sales\n",
    "sns.scatterplot(x=data['Rank'], y=data['Volume Sales'])\n",
    "plt.title('Rank vs. Volume Sales in Millions')\n",
    "plt.show()"
   ]
  },
  {
   "cell_type": "code",
   "execution_count": 34,
   "id": "88c90fdb",
   "metadata": {},
   "outputs": [
    {
     "name": "stdout",
     "output_type": "stream",
     "text": [
      "Author\n",
      "Rowling, J.K.       28494745\n",
      "Brown, Dan          14462827\n",
      "James, E. L.         8432648\n",
      "Meyer, Stephenie     8308136\n",
      "Larsson, Stieg       5603489\n",
      "Oliver, Jamie        5160955\n",
      "Donaldson, Julia     3832515\n",
      "Bryson, Bill         3675078\n",
      "Pullman, Philip      3220977\n",
      "Hosseini, Khaled     3213111\n",
      "Name: Volume Sales, dtype: int64\n",
      "Publisher\n",
      "Bloomsbury            31707856\n",
      "Random House          27124816\n",
      "Transworld            23481592\n",
      "Penguin               15109759\n",
      "Little, Brown Book    10383181\n",
      "Pan Macmillan          9085383\n",
      "HarperCollins          7590622\n",
      "Quercus                5603489\n",
      "Orion                  5091561\n",
      "Scholastic Ltd.        4013164\n",
      "Name: Volume Sales, dtype: int64\n",
      "Genre\n",
      "General & Literary Fiction                   38469803\n",
      "Children's Fiction                           27341564\n",
      "Crime, Thriller & Adventure                  25071822\n",
      "Young Adult Fiction                          13325714\n",
      "Romance & Sagas                               8432648\n",
      "Food & Drink: General                         6132545\n",
      "Picture Books                                 5616050\n",
      "Autobiography: General                        3731977\n",
      "Autobiography: The Arts                       3712452\n",
      "Fitness & Diet                                3063685\n",
      "Popular Science                               2669826\n",
      "Science Fiction & Fantasy                     2120647\n",
      "Travel Writing                                1822159\n",
      "Humour: Collections & General                 1489403\n",
      "Biography: The Arts                           1231957\n",
      "Usage & Writing Guides                        1023688\n",
      "Popular Culture & Media: General Interest      992846\n",
      "Current Affairs & Issues                       963353\n",
      "National & Regional Cuisine                    906968\n",
      "Children's Annuals                             816585\n",
      "Biography: General                             791507\n",
      "Name: Volume Sales, dtype: int64\n"
     ]
    }
   ],
   "source": [
    "# Group by author and sum or average the sales\n",
    "author_sales_sum = data.groupby('Author')['Volume Sales'].sum().sort_values(ascending=False)\n",
    "author_sales_avg = data.groupby('Author')['Volume Sales'].mean().sort_values(ascending=False)\n",
    "\n",
    "# Group by publisher and sum or average the sales\n",
    "publisher_sales_sum = data.groupby('Publisher')['Volume Sales'].sum().sort_values(ascending=False)\n",
    "publisher_sales_avg = data.groupby('Publisher')['Volume Sales'].mean().sort_values(ascending=False)\n",
    "\n",
    "# Group by genre and sum or average the sales\n",
    "genre_sales_sum = data.groupby('Genre')['Volume Sales'].sum().sort_values(ascending=False)\n",
    "genre_sales_avg = data.groupby('Genre')['Volume Sales'].mean().sort_values(ascending=False)\n",
    "\n",
    "\n",
    "# Get the top 10 authors and publishers by total sales\n",
    "top_10_authors = author_sales_sum.head(10)\n",
    "top_10_publishers = publisher_sales_sum.head(10)\n",
    "genre_sales_sum\n",
    "print(top_10_authors)\n",
    "print(top_10_publishers)\n",
    "print(genre_sales_sum)"
   ]
  },
  {
   "cell_type": "code",
   "execution_count": 35,
   "id": "710d304d",
   "metadata": {},
   "outputs": [
    {
     "data": {
      "image/png": "[encoded data removed]",
      "text/plain": [
       "<Figure size 432x288 with 1 Axes>"
      ]
     },
     "metadata": {
      "needs_background": "light"
     },
     "output_type": "display_data"
    }
   ],
   "source": [
    "# Author vs. Volume Sales (Top 10 Authors)\n",
    "top_10_authors.plot(kind='bar', title='Top 10 Authors by Total Volume Sales')\n",
    "plt.ylabel('Total Volume Sales in Millions')\n",
    "plt.xlabel('Author')\n",
    "plt.xticks(rotation=45)\n",
    "plt.show()"
   ]
  },
  {
   "cell_type": "code",
   "execution_count": 41,
   "id": "463f9ef5",
   "metadata": {},
   "outputs": [
    {
     "data": {
      "image/png": "[encoded data removed]",
      "text/plain": [
       "<Figure size 432x288 with 1 Axes>"
      ]
     },
     "metadata": {
      "needs_background": "light"
     },
     "output_type": "display_data"
    }
   ],
   "source": [
    "# Publisher vs. Volume Sales (Top 10 Publishers)\n",
    "top_10_publishers.plot(kind='bar', title='Top 10 Publishers by Total Volume Sales')\n",
    "plt.ylabel('Total Volume Sales in Millions')\n",
    "plt.xlabel('Publisher')\n",
    "plt.xticks(rotation=45)\n",
    "plt.show()"
   ]
  },
  {
   "cell_type": "code",
   "execution_count": 40,
   "id": "dcfb5180",
   "metadata": {
    "scrolled": true
   },
   "outputs": [
    {
     "data": {
      "image/png": "[encoded data removed]",
      "text/plain": [
       "<Figure size 720x432 with 1 Axes>"
      ]
     },
     "metadata": {
      "needs_background": "light"
     },
     "output_type": "display_data"
    }
   ],
   "source": [
    "# Genre vs. Volume Sales\n",
    "plt.figure(figsize=(10, 6))\n",
    "genre_sales_sum.plot(kind='bar', title='Total Volume Sales by Genre')\n",
    "plt.xlabel('Genre')\n",
    "plt.ylabel('Total Volume Sales in Millions')\n",
    "plt.xticks(rotation=45, ha='right')\n",
    "plt.show()"
   ]
  },
  {
   "cell_type": "markdown",
   "id": "446ec41a",
   "metadata": {},
   "source": [
    "#### Summary:\n",
    "\n",
    "1. Dataset contains 100 rows and 6 columns: 'Rank', 'Title', 'Author', 'Volume Sales', 'Publisher', 'Genre'\n",
    "2. There are no missing values in the dataset.\n",
    "3. Dataset contains 67 unique authors, 16 unique publishers and 21 unique genres. \n",
    "4. Top 5 authors by sold book counts are Rowling, J.K., Brown, Dan, James, E. L, Meyer, Stephenie and Larsson, Stieg.\n",
    "5. Top 5 publishers by sold book counts are Bloomsbury, Random House, Transworld, Penguin and Little, Brown Book.\n",
    "6. Top 5 genres of sold books are General & Literary Fiction, Children's Fiction, Crime, Thriller & Adventure, Young Adult Fiction and Romance & Sagas."
   ]
  }
 ],
 "metadata": {
  "kernelspec": {
   "display_name": "Python 3 (ipykernel)",
   "language": "python",
   "name": "python3"
  },
  "language_info": {
   "codemirror_mode": {
    "name": "ipython",
    "version": 3
   },
   "file_extension": ".py",
   "mimetype": "text/x-python",
   "name": "python",
   "nbconvert_exporter": "python",
   "pygments_lexer": "ipython3",
   "version": "3.9.7"
  }
 },
 "nbformat": 4,
 "nbformat_minor": 5
}
